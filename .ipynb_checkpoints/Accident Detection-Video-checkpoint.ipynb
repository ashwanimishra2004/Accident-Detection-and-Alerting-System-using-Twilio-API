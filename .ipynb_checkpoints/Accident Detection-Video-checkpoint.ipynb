{
 "cells": [
  {
   "cell_type": "code",
   "execution_count": 1,
   "id": "93c20982",
   "metadata": {
    "scrolled": true
   },
   "outputs": [],
   "source": [
    "import os\n",
    "import cv2     # for capturing videos\n",
    "import math \n",
    "import geocoder\n",
    "import requests\n",
    "%matplotlib inline\n",
    "import pandas as pd\n",
    "from twilio.rest import Client\n",
    "from geopy.geocoders import Nominatim\n",
    "from keras.preprocessing import image   # for preprocessing the images\n",
    "import numpy as np    # for mathematical operations\n",
    "from keras.utils import np_utils\n",
    "from matplotlib import pyplot as plt \n",
    "from skimage.transform import resize   # for resizing images"
   ]
  },
  {
   "cell_type": "code",
   "execution_count": 2,
   "id": "c9d50c3c",
   "metadata": {},
   "outputs": [
    {
     "name": "stdout",
     "output_type": "stream",
     "text": [
      "Done!\n"
     ]
    }
   ],
   "source": [
    "count = 0\n",
    "videoFile = \"Accidents.mp4\"\n",
    "cap = cv2.VideoCapture(videoFile)   # capturing the video from the given path\n",
    "frameRate = cap.get(5) #frame rate\n",
    "x=1\n",
    "while(cap.isOpened()):\n",
    "    frameId = cap.get(1) #current frame number\n",
    "    ret, frame = cap.read()\n",
    "    if (ret != True):\n",
    "        break\n",
    "    if (frameId % math.floor(frameRate) == 0):\n",
    "        filename =\"%d.jpg\" % count;count+=1\n",
    "        cv2.imwrite(filename, frame)\n",
    "cap.release()\n",
    "print (\"Done!\")"
   ]
  },
  {
   "cell_type": "code",
   "execution_count": 3,
   "id": "ed1ec509",
   "metadata": {},
   "outputs": [
    {
     "data": {
      "text/plain": [
       "<matplotlib.image.AxesImage at 0x29216c69760>"
      ]
     },
     "execution_count": 3,
     "metadata": {},
     "output_type": "execute_result"
    },
    {
     "data": {
      "image/png": "[encoded data removed]",
      "text/plain": [
       "<Figure size 432x288 with 1 Axes>"
      ]
     },
     "metadata": {
      "needs_background": "light"
     },
     "output_type": "display_data"
    }
   ],
   "source": [
    "img = plt.imread('0.jpg')   # reading image using its name\n",
    "plt.imshow(img)"
   ]
  },
  {
   "cell_type": "code",
   "execution_count": 4,
   "id": "9da41986",
   "metadata": {},
   "outputs": [
    {
     "data": {
      "text/html": [
       "<div>\n",
       "<style scoped>\n",
       "    .dataframe tbody tr th:only-of-type {\n",
       "        vertical-align: middle;\n",
       "    }\n",
       "\n",
       "    .dataframe tbody tr th {\n",
       "        vertical-align: top;\n",
       "    }\n",
       "\n",
       "    .dataframe thead th {\n",
       "        text-align: right;\n",
       "    }\n",
       "</style>\n",
       "<table border=\"1\" class=\"dataframe\">\n",
       "  <thead>\n",
       "    <tr style=\"text-align: right;\">\n",
       "      <th></th>\n",
       "      <th>Image_ID</th>\n",
       "      <th>Class</th>\n",
       "    </tr>\n",
       "  </thead>\n",
       "  <tbody>\n",
       "    <tr>\n",
       "      <th>0</th>\n",
       "      <td>0.jpg</td>\n",
       "      <td>1</td>\n",
       "    </tr>\n",
       "    <tr>\n",
       "      <th>1</th>\n",
       "      <td>1.jpg</td>\n",
       "      <td>1</td>\n",
       "    </tr>\n",
       "    <tr>\n",
       "      <th>2</th>\n",
       "      <td>2.jpg</td>\n",
       "      <td>1</td>\n",
       "    </tr>\n",
       "    <tr>\n",
       "      <th>3</th>\n",
       "      <td>3.jpg</td>\n",
       "      <td>1</td>\n",
       "    </tr>\n",
       "    <tr>\n",
       "      <th>4</th>\n",
       "      <td>4.jpg</td>\n",
       "      <td>1</td>\n",
       "    </tr>\n",
       "  </tbody>\n",
       "</table>\n",
       "</div>"
      ],
      "text/plain": [
       "  Image_ID  Class\n",
       "0    0.jpg      1\n",
       "1    1.jpg      1\n",
       "2    2.jpg      1\n",
       "3    3.jpg      1\n",
       "4    4.jpg      1"
      ]
     },
     "execution_count": 4,
     "metadata": {},
     "output_type": "execute_result"
    }
   ],
   "source": [
    "data = pd.read_csv('mapping.csv')     # reading the csv file\n",
    "data.head()"
   ]
  },
  {
   "cell_type": "code",
   "execution_count": 5,
   "id": "39a7f413",
   "metadata": {},
   "outputs": [],
   "source": [
    "X = [ ]     # creating an empty array\n",
    "for img_name in data.Image_ID:\n",
    "    img = plt.imread('' + img_name)\n",
    "    X.append(img)  # storing each image in array X\n",
    "X = np.array(X)    # converting list to array"
   ]
  },
  {
   "cell_type": "code",
   "execution_count": 6,
   "id": "e8119c04",
   "metadata": {},
   "outputs": [],
   "source": [
    "y = data.Class\n",
    "dummy_y = np_utils.to_categorical(y)"
   ]
  },
  {
   "cell_type": "code",
   "execution_count": 7,
   "id": "0f7cf107",
   "metadata": {},
   "outputs": [],
   "source": [
    "image = []\n",
    "for i in range(0,X.shape[0]):\n",
    "    a = resize(X[i], preserve_range=True, output_shape=(224,224)).astype(int)      # reshaping to 224*224*3\n",
    "    image.append(a)\n",
    "X = np.array(image)"
   ]
  },
  {
   "cell_type": "code",
   "execution_count": 8,
   "id": "2555ab63",
   "metadata": {},
   "outputs": [],
   "source": [
    "from keras.applications.vgg16 import preprocess_input\n",
    "X = preprocess_input(X,data_format=None)"
   ]
  },
  {
   "cell_type": "code",
   "execution_count": 9,
   "id": "21006e54",
   "metadata": {},
   "outputs": [],
   "source": [
    "from sklearn.model_selection import train_test_split\n",
    "X_train, X_valid, y_train, y_valid = train_test_split(X, dummy_y, test_size=0.3, random_state=42)"
   ]
  },
  {
   "cell_type": "code",
   "execution_count": 10,
   "id": "af20a283",
   "metadata": {},
   "outputs": [],
   "source": [
    "from keras.models import Sequential\n",
    "from keras.applications.vgg16 import VGG16\n",
    "from keras.layers import Dense, InputLayer, Dropout"
   ]
  },
  {
   "cell_type": "code",
   "execution_count": 11,
   "id": "47d94402",
   "metadata": {},
   "outputs": [],
   "source": [
    "base_model = VGG16(weights='imagenet', include_top=False, input_shape=(224, 224, 3)) "
   ]
  },
  {
   "cell_type": "code",
   "execution_count": 12,
   "id": "fb02ec43",
   "metadata": {},
   "outputs": [
    {
     "data": {
      "text/plain": [
       "((155, 7, 7, 512), (67, 7, 7, 512))"
      ]
     },
     "execution_count": 12,
     "metadata": {},
     "output_type": "execute_result"
    }
   ],
   "source": [
    "X_train = base_model.predict(X_train)\n",
    "X_valid = base_model.predict(X_valid)\n",
    "X_train.shape, X_valid.shape"
   ]
  },
  {
   "cell_type": "code",
   "execution_count": 13,
   "id": "555111d7",
   "metadata": {},
   "outputs": [],
   "source": [
    "X_train = X_train.reshape(155, 7*7*512)      # converting to 1-D\n",
    "X_valid = X_valid.reshape(67, 7*7*512)"
   ]
  },
  {
   "cell_type": "code",
   "execution_count": 14,
   "id": "5a5a6732",
   "metadata": {},
   "outputs": [],
   "source": [
    "train = X_train/X_train.max()      # centering the data\n",
    "X_valid = X_valid/X_train.max()"
   ]
  },
  {
   "cell_type": "code",
   "execution_count": 15,
   "id": "57001716",
   "metadata": {},
   "outputs": [],
   "source": [
    "model = Sequential()\n",
    "model.add(InputLayer((7*7*512,)))    # input layer\n",
    "model.add(Dense(units=1024, activation='sigmoid')) # hidden layer\n",
    "model.add(Dense(2, activation='softmax'))    # output layer"
   ]
  },
  {
   "cell_type": "code",
   "execution_count": 16,
   "id": "586cff45",
   "metadata": {},
   "outputs": [
    {
     "name": "stdout",
     "output_type": "stream",
     "text": [
      "Model: \"sequential\"\n",
      "_________________________________________________________________\n",
      " Layer (type)                Output Shape              Param #   \n",
      "=================================================================\n",
      " dense (Dense)               (None, 1024)              25691136  \n",
      "                                                                 \n",
      " dense_1 (Dense)             (None, 2)                 2050      \n",
      "                                                                 \n",
      "=================================================================\n",
      "Total params: 25,693,186\n",
      "Trainable params: 25,693,186\n",
      "Non-trainable params: 0\n",
      "_________________________________________________________________\n"
     ]
    }
   ],
   "source": [
    "model.summary()"
   ]
  },
  {
   "cell_type": "code",
   "execution_count": 17,
   "id": "e36420f6",
   "metadata": {},
   "outputs": [],
   "source": [
    "model.compile(loss='categorical_crossentropy', optimizer='adam', metrics=['accuracy'])"
   ]
  },
  {
   "cell_type": "code",
   "execution_count": 18,
   "id": "20e00a1e",
   "metadata": {
    "scrolled": true
   },
   "outputs": [
    {
     "name": "stdout",
     "output_type": "stream",
     "text": [
      "Epoch 1/100\n",
      "5/5 [==============================] - 2s 227ms/step - loss: 0.7919 - accuracy: 0.6323 - val_loss: 0.7307 - val_accuracy: 0.6567\n",
      "Epoch 2/100\n",
      "5/5 [==============================] - 1s 142ms/step - loss: 0.3660 - accuracy: 0.8387 - val_loss: 0.9382 - val_accuracy: 0.6866\n",
      "Epoch 3/100\n",
      "5/5 [==============================] - 1s 141ms/step - loss: 0.2048 - accuracy: 0.9355 - val_loss: 0.9306 - val_accuracy: 0.6418\n",
      "Epoch 4/100\n",
      "5/5 [==============================] - 1s 139ms/step - loss: 0.1556 - accuracy: 0.9161 - val_loss: 0.8827 - val_accuracy: 0.7313\n",
      "Epoch 5/100\n",
      "5/5 [==============================] - 1s 137ms/step - loss: 0.0745 - accuracy: 0.9935 - val_loss: 0.8973 - val_accuracy: 0.7463\n",
      "Epoch 6/100\n",
      "5/5 [==============================] - 1s 139ms/step - loss: 0.0653 - accuracy: 0.9935 - val_loss: 0.8940 - val_accuracy: 0.7612\n",
      "Epoch 7/100\n",
      "5/5 [==============================] - 1s 135ms/step - loss: 0.0418 - accuracy: 1.0000 - val_loss: 0.9430 - val_accuracy: 0.7612\n",
      "Epoch 8/100\n",
      "5/5 [==============================] - 1s 144ms/step - loss: 0.0339 - accuracy: 1.0000 - val_loss: 0.9145 - val_accuracy: 0.7612\n",
      "Epoch 9/100\n",
      "5/5 [==============================] - 1s 145ms/step - loss: 0.0256 - accuracy: 1.0000 - val_loss: 0.9095 - val_accuracy: 0.7612\n",
      "Epoch 10/100\n",
      "5/5 [==============================] - 1s 140ms/step - loss: 0.0225 - accuracy: 1.0000 - val_loss: 0.9166 - val_accuracy: 0.7761\n",
      "Epoch 11/100\n",
      "5/5 [==============================] - 1s 141ms/step - loss: 0.0184 - accuracy: 1.0000 - val_loss: 0.9275 - val_accuracy: 0.7761\n",
      "Epoch 12/100\n",
      "5/5 [==============================] - 1s 144ms/step - loss: 0.0166 - accuracy: 1.0000 - val_loss: 0.9332 - val_accuracy: 0.7761\n",
      "Epoch 13/100\n",
      "5/5 [==============================] - 1s 140ms/step - loss: 0.0148 - accuracy: 1.0000 - val_loss: 0.9327 - val_accuracy: 0.7761\n",
      "Epoch 14/100\n",
      "5/5 [==============================] - 1s 140ms/step - loss: 0.0129 - accuracy: 1.0000 - val_loss: 0.9326 - val_accuracy: 0.7910\n",
      "Epoch 15/100\n",
      "5/5 [==============================] - 1s 145ms/step - loss: 0.0117 - accuracy: 1.0000 - val_loss: 0.9379 - val_accuracy: 0.7761\n",
      "Epoch 16/100\n",
      "5/5 [==============================] - 1s 141ms/step - loss: 0.0107 - accuracy: 1.0000 - val_loss: 0.9458 - val_accuracy: 0.7761\n",
      "Epoch 17/100\n",
      "5/5 [==============================] - 1s 142ms/step - loss: 0.0100 - accuracy: 1.0000 - val_loss: 0.9505 - val_accuracy: 0.7761\n",
      "Epoch 18/100\n",
      "5/5 [==============================] - 1s 141ms/step - loss: 0.0091 - accuracy: 1.0000 - val_loss: 0.9521 - val_accuracy: 0.7761\n",
      "Epoch 19/100\n",
      "5/5 [==============================] - 1s 143ms/step - loss: 0.0087 - accuracy: 1.0000 - val_loss: 0.9550 - val_accuracy: 0.7612\n",
      "Epoch 20/100\n",
      "5/5 [==============================] - 1s 141ms/step - loss: 0.0080 - accuracy: 1.0000 - val_loss: 0.9585 - val_accuracy: 0.7612\n",
      "Epoch 21/100\n",
      "5/5 [==============================] - 1s 149ms/step - loss: 0.0074 - accuracy: 1.0000 - val_loss: 0.9631 - val_accuracy: 0.7761\n",
      "Epoch 22/100\n",
      "5/5 [==============================] - 1s 145ms/step - loss: 0.0070 - accuracy: 1.0000 - val_loss: 0.9624 - val_accuracy: 0.7761\n",
      "Epoch 23/100\n",
      "5/5 [==============================] - 1s 140ms/step - loss: 0.0066 - accuracy: 1.0000 - val_loss: 0.9619 - val_accuracy: 0.7761\n",
      "Epoch 24/100\n",
      "5/5 [==============================] - 1s 141ms/step - loss: 0.0062 - accuracy: 1.0000 - val_loss: 0.9620 - val_accuracy: 0.7612\n",
      "Epoch 25/100\n",
      "5/5 [==============================] - 1s 137ms/step - loss: 0.0058 - accuracy: 1.0000 - val_loss: 0.9646 - val_accuracy: 0.7612\n",
      "Epoch 26/100\n",
      "5/5 [==============================] - 1s 140ms/step - loss: 0.0055 - accuracy: 1.0000 - val_loss: 0.9662 - val_accuracy: 0.7612\n",
      "Epoch 27/100\n",
      "5/5 [==============================] - 1s 143ms/step - loss: 0.0052 - accuracy: 1.0000 - val_loss: 0.9705 - val_accuracy: 0.7612\n",
      "Epoch 28/100\n",
      "5/5 [==============================] - 1s 142ms/step - loss: 0.0050 - accuracy: 1.0000 - val_loss: 0.9730 - val_accuracy: 0.7761\n",
      "Epoch 29/100\n",
      "5/5 [==============================] - 1s 143ms/step - loss: 0.0047 - accuracy: 1.0000 - val_loss: 0.9739 - val_accuracy: 0.7612\n",
      "Epoch 30/100\n",
      "5/5 [==============================] - 1s 146ms/step - loss: 0.0045 - accuracy: 1.0000 - val_loss: 0.9764 - val_accuracy: 0.7761\n",
      "Epoch 31/100\n",
      "5/5 [==============================] - 1s 141ms/step - loss: 0.0043 - accuracy: 1.0000 - val_loss: 0.9768 - val_accuracy: 0.7761\n",
      "Epoch 32/100\n",
      "5/5 [==============================] - 1s 138ms/step - loss: 0.0041 - accuracy: 1.0000 - val_loss: 0.9782 - val_accuracy: 0.7761\n",
      "Epoch 33/100\n",
      "5/5 [==============================] - 1s 148ms/step - loss: 0.0039 - accuracy: 1.0000 - val_loss: 0.9788 - val_accuracy: 0.7761\n",
      "Epoch 34/100\n",
      "5/5 [==============================] - 1s 143ms/step - loss: 0.0037 - accuracy: 1.0000 - val_loss: 0.9817 - val_accuracy: 0.7761\n",
      "Epoch 35/100\n",
      "5/5 [==============================] - 1s 143ms/step - loss: 0.0035 - accuracy: 1.0000 - val_loss: 0.9829 - val_accuracy: 0.7761\n",
      "Epoch 36/100\n",
      "5/5 [==============================] - 1s 138ms/step - loss: 0.0034 - accuracy: 1.0000 - val_loss: 0.9872 - val_accuracy: 0.7761\n",
      "Epoch 37/100\n",
      "5/5 [==============================] - 1s 142ms/step - loss: 0.0033 - accuracy: 1.0000 - val_loss: 0.9883 - val_accuracy: 0.7761\n",
      "Epoch 38/100\n",
      "5/5 [==============================] - 1s 143ms/step - loss: 0.0031 - accuracy: 1.0000 - val_loss: 0.9901 - val_accuracy: 0.7761\n",
      "Epoch 39/100\n",
      "5/5 [==============================] - 1s 139ms/step - loss: 0.0030 - accuracy: 1.0000 - val_loss: 0.9923 - val_accuracy: 0.7761\n",
      "Epoch 40/100\n",
      "5/5 [==============================] - 1s 142ms/step - loss: 0.0029 - accuracy: 1.0000 - val_loss: 0.9945 - val_accuracy: 0.7761\n",
      "Epoch 41/100\n",
      "5/5 [==============================] - 1s 140ms/step - loss: 0.0028 - accuracy: 1.0000 - val_loss: 0.9956 - val_accuracy: 0.7910\n",
      "Epoch 42/100\n",
      "5/5 [==============================] - 1s 148ms/step - loss: 0.0027 - accuracy: 1.0000 - val_loss: 0.9964 - val_accuracy: 0.7910\n",
      "Epoch 43/100\n",
      "5/5 [==============================] - 1s 142ms/step - loss: 0.0026 - accuracy: 1.0000 - val_loss: 0.9963 - val_accuracy: 0.7761\n",
      "Epoch 44/100\n",
      "5/5 [==============================] - 1s 141ms/step - loss: 0.0025 - accuracy: 1.0000 - val_loss: 0.9971 - val_accuracy: 0.7910\n",
      "Epoch 45/100\n",
      "5/5 [==============================] - 1s 140ms/step - loss: 0.0024 - accuracy: 1.0000 - val_loss: 0.9990 - val_accuracy: 0.7910\n",
      "Epoch 46/100\n",
      "5/5 [==============================] - 1s 143ms/step - loss: 0.0023 - accuracy: 1.0000 - val_loss: 1.0006 - val_accuracy: 0.7910\n",
      "Epoch 47/100\n",
      "5/5 [==============================] - 1s 142ms/step - loss: 0.0022 - accuracy: 1.0000 - val_loss: 1.0026 - val_accuracy: 0.7910\n",
      "Epoch 48/100\n",
      "5/5 [==============================] - 1s 138ms/step - loss: 0.0022 - accuracy: 1.0000 - val_loss: 1.0039 - val_accuracy: 0.7910\n",
      "Epoch 49/100\n",
      "5/5 [==============================] - 1s 143ms/step - loss: 0.0021 - accuracy: 1.0000 - val_loss: 1.0068 - val_accuracy: 0.7910\n",
      "Epoch 50/100\n",
      "5/5 [==============================] - 1s 143ms/step - loss: 0.0020 - accuracy: 1.0000 - val_loss: 1.0077 - val_accuracy: 0.7910\n",
      "Epoch 51/100\n",
      "5/5 [==============================] - 1s 145ms/step - loss: 0.0020 - accuracy: 1.0000 - val_loss: 1.0078 - val_accuracy: 0.7910\n",
      "Epoch 52/100\n",
      "5/5 [==============================] - 1s 141ms/step - loss: 0.0019 - accuracy: 1.0000 - val_loss: 1.0088 - val_accuracy: 0.7910\n",
      "Epoch 53/100\n",
      "5/5 [==============================] - 1s 140ms/step - loss: 0.0019 - accuracy: 1.0000 - val_loss: 1.0108 - val_accuracy: 0.7910\n",
      "Epoch 54/100\n",
      "5/5 [==============================] - 1s 142ms/step - loss: 0.0018 - accuracy: 1.0000 - val_loss: 1.0127 - val_accuracy: 0.7910\n",
      "Epoch 55/100\n",
      "5/5 [==============================] - 1s 129ms/step - loss: 0.0017 - accuracy: 1.0000 - val_loss: 1.0147 - val_accuracy: 0.7910\n",
      "Epoch 56/100\n",
      "5/5 [==============================] - 1s 147ms/step - loss: 0.0017 - accuracy: 1.0000 - val_loss: 1.0155 - val_accuracy: 0.7910\n",
      "Epoch 57/100\n",
      "5/5 [==============================] - 1s 140ms/step - loss: 0.0016 - accuracy: 1.0000 - val_loss: 1.0169 - val_accuracy: 0.7910\n",
      "Epoch 58/100\n",
      "5/5 [==============================] - 1s 145ms/step - loss: 0.0016 - accuracy: 1.0000 - val_loss: 1.0186 - val_accuracy: 0.7910\n"
     ]
    },
    {
     "name": "stdout",
     "output_type": "stream",
     "text": [
      "Epoch 59/100\n",
      "5/5 [==============================] - 1s 142ms/step - loss: 0.0016 - accuracy: 1.0000 - val_loss: 1.0198 - val_accuracy: 0.7910\n",
      "Epoch 60/100\n",
      "5/5 [==============================] - 1s 141ms/step - loss: 0.0015 - accuracy: 1.0000 - val_loss: 1.0212 - val_accuracy: 0.7910\n",
      "Epoch 61/100\n",
      "5/5 [==============================] - 1s 142ms/step - loss: 0.0015 - accuracy: 1.0000 - val_loss: 1.0227 - val_accuracy: 0.7910\n",
      "Epoch 62/100\n",
      "5/5 [==============================] - 1s 143ms/step - loss: 0.0014 - accuracy: 1.0000 - val_loss: 1.0247 - val_accuracy: 0.7910\n",
      "Epoch 63/100\n",
      "5/5 [==============================] - 1s 142ms/step - loss: 0.0014 - accuracy: 1.0000 - val_loss: 1.0252 - val_accuracy: 0.7910\n",
      "Epoch 64/100\n",
      "5/5 [==============================] - 1s 143ms/step - loss: 0.0014 - accuracy: 1.0000 - val_loss: 1.0256 - val_accuracy: 0.8060\n",
      "Epoch 65/100\n",
      "5/5 [==============================] - 1s 142ms/step - loss: 0.0013 - accuracy: 1.0000 - val_loss: 1.0278 - val_accuracy: 0.7910\n",
      "Epoch 66/100\n",
      "5/5 [==============================] - 1s 143ms/step - loss: 0.0013 - accuracy: 1.0000 - val_loss: 1.0292 - val_accuracy: 0.7910\n",
      "Epoch 67/100\n",
      "5/5 [==============================] - 1s 142ms/step - loss: 0.0013 - accuracy: 1.0000 - val_loss: 1.0308 - val_accuracy: 0.7910\n",
      "Epoch 68/100\n",
      "5/5 [==============================] - 1s 143ms/step - loss: 0.0012 - accuracy: 1.0000 - val_loss: 1.0330 - val_accuracy: 0.7910\n",
      "Epoch 69/100\n",
      "5/5 [==============================] - 1s 141ms/step - loss: 0.0012 - accuracy: 1.0000 - val_loss: 1.0336 - val_accuracy: 0.7910\n",
      "Epoch 70/100\n",
      "5/5 [==============================] - 1s 147ms/step - loss: 0.0012 - accuracy: 1.0000 - val_loss: 1.0347 - val_accuracy: 0.7910\n",
      "Epoch 71/100\n",
      "5/5 [==============================] - 1s 145ms/step - loss: 0.0011 - accuracy: 1.0000 - val_loss: 1.0361 - val_accuracy: 0.7910\n",
      "Epoch 72/100\n",
      "5/5 [==============================] - 1s 142ms/step - loss: 0.0011 - accuracy: 1.0000 - val_loss: 1.0370 - val_accuracy: 0.7910\n",
      "Epoch 73/100\n",
      "5/5 [==============================] - 1s 143ms/step - loss: 0.0011 - accuracy: 1.0000 - val_loss: 1.0385 - val_accuracy: 0.7910\n",
      "Epoch 74/100\n",
      "5/5 [==============================] - 1s 140ms/step - loss: 0.0011 - accuracy: 1.0000 - val_loss: 1.0398 - val_accuracy: 0.7910\n",
      "Epoch 75/100\n",
      "5/5 [==============================] - 1s 141ms/step - loss: 0.0010 - accuracy: 1.0000 - val_loss: 1.0406 - val_accuracy: 0.7910\n",
      "Epoch 76/100\n",
      "5/5 [==============================] - 1s 140ms/step - loss: 0.0010 - accuracy: 1.0000 - val_loss: 1.0411 - val_accuracy: 0.7910\n",
      "Epoch 77/100\n",
      "5/5 [==============================] - 1s 140ms/step - loss: 0.0010 - accuracy: 1.0000 - val_loss: 1.0426 - val_accuracy: 0.7910\n",
      "Epoch 78/100\n",
      "5/5 [==============================] - 1s 140ms/step - loss: 9.7868e-04 - accuracy: 1.0000 - val_loss: 1.0441 - val_accuracy: 0.7910\n",
      "Epoch 79/100\n",
      "5/5 [==============================] - 1s 147ms/step - loss: 9.5840e-04 - accuracy: 1.0000 - val_loss: 1.0456 - val_accuracy: 0.7910\n",
      "Epoch 80/100\n",
      "5/5 [==============================] - 1s 141ms/step - loss: 9.3560e-04 - accuracy: 1.0000 - val_loss: 1.0462 - val_accuracy: 0.7910\n",
      "Epoch 81/100\n",
      "5/5 [==============================] - 1s 142ms/step - loss: 9.1931e-04 - accuracy: 1.0000 - val_loss: 1.0475 - val_accuracy: 0.8060\n",
      "Epoch 82/100\n",
      "5/5 [==============================] - 1s 149ms/step - loss: 8.9960e-04 - accuracy: 1.0000 - val_loss: 1.0482 - val_accuracy: 0.8060\n",
      "Epoch 83/100\n",
      "5/5 [==============================] - 1s 143ms/step - loss: 8.8104e-04 - accuracy: 1.0000 - val_loss: 1.0487 - val_accuracy: 0.8060\n",
      "Epoch 84/100\n",
      "5/5 [==============================] - 1s 146ms/step - loss: 8.6307e-04 - accuracy: 1.0000 - val_loss: 1.0499 - val_accuracy: 0.7910\n",
      "Epoch 85/100\n",
      "5/5 [==============================] - 1s 150ms/step - loss: 8.4702e-04 - accuracy: 1.0000 - val_loss: 1.0514 - val_accuracy: 0.7910\n",
      "Epoch 86/100\n",
      "5/5 [==============================] - 1s 143ms/step - loss: 8.3175e-04 - accuracy: 1.0000 - val_loss: 1.0525 - val_accuracy: 0.7910\n",
      "Epoch 87/100\n",
      "5/5 [==============================] - 1s 143ms/step - loss: 8.1350e-04 - accuracy: 1.0000 - val_loss: 1.0533 - val_accuracy: 0.8060\n",
      "Epoch 88/100\n",
      "5/5 [==============================] - 1s 139ms/step - loss: 7.9715e-04 - accuracy: 1.0000 - val_loss: 1.0544 - val_accuracy: 0.8060\n",
      "Epoch 89/100\n",
      "5/5 [==============================] - 1s 140ms/step - loss: 7.8219e-04 - accuracy: 1.0000 - val_loss: 1.0561 - val_accuracy: 0.8060\n",
      "Epoch 90/100\n",
      "5/5 [==============================] - 1s 137ms/step - loss: 7.7096e-04 - accuracy: 1.0000 - val_loss: 1.0583 - val_accuracy: 0.8060\n",
      "Epoch 91/100\n",
      "5/5 [==============================] - 1s 140ms/step - loss: 7.5309e-04 - accuracy: 1.0000 - val_loss: 1.0590 - val_accuracy: 0.8060\n",
      "Epoch 92/100\n",
      "5/5 [==============================] - 1s 141ms/step - loss: 7.4029e-04 - accuracy: 1.0000 - val_loss: 1.0599 - val_accuracy: 0.8060\n",
      "Epoch 93/100\n",
      "5/5 [==============================] - 1s 141ms/step - loss: 7.2530e-04 - accuracy: 1.0000 - val_loss: 1.0608 - val_accuracy: 0.7910\n",
      "Epoch 94/100\n",
      "5/5 [==============================] - 1s 144ms/step - loss: 7.1306e-04 - accuracy: 1.0000 - val_loss: 1.0609 - val_accuracy: 0.7910\n",
      "Epoch 95/100\n",
      "5/5 [==============================] - 1s 141ms/step - loss: 7.0146e-04 - accuracy: 1.0000 - val_loss: 1.0618 - val_accuracy: 0.7761\n",
      "Epoch 96/100\n",
      "5/5 [==============================] - 1s 143ms/step - loss: 6.8784e-04 - accuracy: 1.0000 - val_loss: 1.0624 - val_accuracy: 0.7910\n",
      "Epoch 97/100\n",
      "5/5 [==============================] - 1s 138ms/step - loss: 6.7712e-04 - accuracy: 1.0000 - val_loss: 1.0641 - val_accuracy: 0.8060\n",
      "Epoch 98/100\n",
      "5/5 [==============================] - 1s 139ms/step - loss: 6.6311e-04 - accuracy: 1.0000 - val_loss: 1.0654 - val_accuracy: 0.8060\n",
      "Epoch 99/100\n",
      "5/5 [==============================] - 1s 142ms/step - loss: 6.5177e-04 - accuracy: 1.0000 - val_loss: 1.0666 - val_accuracy: 0.7910\n",
      "Epoch 100/100\n",
      "5/5 [==============================] - 1s 140ms/step - loss: 6.3948e-04 - accuracy: 1.0000 - val_loss: 1.0680 - val_accuracy: 0.7910\n"
     ]
    },
    {
     "data": {
      "text/plain": [
       "<keras.callbacks.History at 0x29218c316d0>"
      ]
     },
     "execution_count": 18,
     "metadata": {},
     "output_type": "execute_result"
    }
   ],
   "source": [
    "model.fit(train, y_train, epochs=100, validation_data=(X_valid, y_valid))"
   ]
  },
  {
   "cell_type": "code",
   "execution_count": 19,
   "id": "494768fe",
   "metadata": {},
   "outputs": [],
   "source": [
    "model.compile(loss='categorical_crossentropy', optimizer='adam', metrics=['accuracy'])"
   ]
  },
  {
   "cell_type": "code",
   "execution_count": 20,
   "id": "b8d52fec",
   "metadata": {},
   "outputs": [
    {
     "name": "stdout",
     "output_type": "stream",
     "text": [
      "9\n",
      "Done!\n"
     ]
    }
   ],
   "source": [
    "count = 0\n",
    "videoFile = \"Accident-1.mp4\"\n",
    "cap = cv2.VideoCapture(videoFile)\n",
    "frameRate = cap.get(5) #frame rate\n",
    "x=1\n",
    "while(cap.isOpened()):\n",
    "    frameId = cap.get(1) #current frame number\n",
    "    ret, frame = cap.read()\n",
    "    if (ret != True):\n",
    "        break\n",
    "    if (frameId % math.floor(frameRate) == 0):\n",
    "        filename =\"test%d.jpg\" % count;count+=1\n",
    "        cv2.imwrite(filename, frame)\n",
    "cap.release()\n",
    "print(count)\n",
    "print (\"Done!\")"
   ]
  },
  {
   "cell_type": "code",
   "execution_count": 21,
   "id": "1cf0f0cd",
   "metadata": {},
   "outputs": [],
   "source": [
    "test = pd.read_csv('test.csv')"
   ]
  },
  {
   "cell_type": "code",
   "execution_count": 22,
   "id": "9047ac11",
   "metadata": {},
   "outputs": [],
   "source": [
    "test_image = []\n",
    "for img_name in test.Image_ID:\n",
    "    img = plt.imread('' + img_name)\n",
    "    test_image.append(img)\n",
    "test_img = np.array(test_image)"
   ]
  },
  {
   "cell_type": "code",
   "execution_count": 23,
   "id": "f32558f2",
   "metadata": {},
   "outputs": [],
   "source": [
    "test_image = []\n",
    "for i in range(0,test_img.shape[0]):\n",
    "    a = resize(test_img[i], preserve_range=True, output_shape=(224,224)).astype(int)\n",
    "    test_image.append(a)\n",
    "test_image = np.array(test_image)"
   ]
  },
  {
   "cell_type": "code",
   "execution_count": 24,
   "id": "ff1260b5",
   "metadata": {},
   "outputs": [
    {
     "data": {
      "text/plain": [
       "(9, 7, 7, 512)"
      ]
     },
     "execution_count": 24,
     "metadata": {},
     "output_type": "execute_result"
    }
   ],
   "source": [
    "# preprocessing the images\n",
    "test_image = preprocess_input(test_image, data_format=None)\n",
    "\n",
    "# extracting features from the images using pretrained model\n",
    "test_image = base_model.predict(test_image)\n",
    "test_image.shape"
   ]
  },
  {
   "cell_type": "code",
   "execution_count": 25,
   "id": "b9f69282",
   "metadata": {},
   "outputs": [],
   "source": [
    "test_image = test_image.reshape(9, 7*7*512)\n",
    "\n",
    "# zero centered images\n",
    "test_image = test_image/test_image.max()"
   ]
  },
  {
   "cell_type": "code",
   "execution_count": 26,
   "id": "721c02ae",
   "metadata": {},
   "outputs": [],
   "source": [
    "predictions = model.predict(test_image)"
   ]
  },
  {
   "cell_type": "code",
   "execution_count": 27,
   "id": "fb5b165b",
   "metadata": {},
   "outputs": [
    {
     "name": "stdout",
     "output_type": "stream",
     "text": [
      "[[6.6244475e-06 9.9999332e-01]\n",
      " [4.8769580e-04 9.9951231e-01]\n",
      " [4.1024825e-03 9.9589753e-01]\n",
      " [1.5722691e-03 9.9842775e-01]\n",
      " [4.4479342e-03 9.9555200e-01]\n",
      " [6.7653579e-01 3.2346427e-01]\n",
      " [9.0490246e-01 9.5097482e-02]\n",
      " [7.5891167e-01 2.4108833e-01]\n",
      " [9.2352575e-01 7.6474212e-02]]\n"
     ]
    }
   ],
   "source": [
    "print(predictions)"
   ]
  },
  {
   "cell_type": "code",
   "execution_count": 28,
   "id": "1f040ef0",
   "metadata": {
    "scrolled": true
   },
   "outputs": [
    {
     "name": "stdout",
     "output_type": "stream",
     "text": [
      "No Accident\n",
      "No Accident\n",
      "No Accident\n",
      "No Accident\n",
      "No Accident\n",
      "Accident\n",
      "Accident\n",
      "Accident\n",
      "Accident\n"
     ]
    }
   ],
   "source": [
    "for i in range (0,9):\n",
    "    if predictions[i][0]<predictions[i][1]:\n",
    "        print(\"No Accident\")\n",
    "    else:\n",
    "        print(\"Accident\")\n",
    "    "
   ]
  },
  {
   "cell_type": "code",
   "execution_count": 29,
   "id": "e66b91f0",
   "metadata": {},
   "outputs": [],
   "source": [
    "geoLoc = Nominatim(user_agent=\"GetLoc\")\n",
    "g = geocoder.ip('me')\n",
    "locname = geoLoc.reverse(g.latlng)\n",
    "account_sid = \"ACf8662654f30704c3ba0a616d34900496\"\n",
    "auth_token = \"78015dcf3a8e37a859693c74353f2918\"\n",
    "client = Client(account_sid, auth_token)"
   ]
  },
  {
   "cell_type": "code",
   "execution_count": 30,
   "id": "80b3e4f1",
   "metadata": {},
   "outputs": [
    {
     "ename": "TwilioRestException",
     "evalue": "HTTP 401 error: Unable to create record: Authenticate",
     "output_type": "error",
     "traceback": [
      "\u001b[1;31m---------------------------------------------------------------------------\u001b[0m",
      "\u001b[1;31mTwilioRestException\u001b[0m                       Traceback (most recent call last)",
      "\u001b[1;32m~\\AppData\\Local\\Temp\\ipykernel_9836\\2985609701.py\u001b[0m in \u001b[0;36m<module>\u001b[1;34m\u001b[0m\n\u001b[0;32m     25\u001b[0m         \u001b[1;32mbreak\u001b[0m\u001b[1;33m\u001b[0m\u001b[1;33m\u001b[0m\u001b[0m\n\u001b[0;32m     26\u001b[0m \u001b[1;32mif\u001b[0m \u001b[0mflag\u001b[0m\u001b[1;33m==\u001b[0m\u001b[1;36m1\u001b[0m\u001b[1;33m:\u001b[0m\u001b[1;33m\u001b[0m\u001b[1;33m\u001b[0m\u001b[0m\n\u001b[1;32m---> 27\u001b[1;33m     client.messages.create(\n\u001b[0m\u001b[0;32m     28\u001b[0m                  \u001b[0mbody\u001b[0m\u001b[1;33m=\u001b[0m\u001b[1;34m\"Accident Detected @ \"\u001b[0m\u001b[1;33m+\u001b[0m\u001b[0mlocname\u001b[0m\u001b[1;33m.\u001b[0m\u001b[0maddress\u001b[0m\u001b[1;33m,\u001b[0m\u001b[1;33m\u001b[0m\u001b[1;33m\u001b[0m\u001b[0m\n\u001b[0;32m     29\u001b[0m                  \u001b[0mfrom_\u001b[0m\u001b[1;33m=\u001b[0m \u001b[1;33m+\u001b[0m\u001b[1;36m14783752797\u001b[0m\u001b[1;33m,\u001b[0m\u001b[1;33m\u001b[0m\u001b[1;33m\u001b[0m\u001b[0m\n",
      "\u001b[1;32m~\\anaconda3\\lib\\site-packages\\twilio\\rest\\api\\v2010\\account\\message\\__init__.py\u001b[0m in \u001b[0;36mcreate\u001b[1;34m(self, to, status_callback, application_sid, max_price, provide_feedback, attempt, validity_period, force_delivery, content_retention, address_retention, smart_encoded, persistent_action, schedule_type, send_at, send_as_mms, from_, messaging_service_sid, body, media_url)\u001b[0m\n\u001b[0;32m     93\u001b[0m         })\n\u001b[0;32m     94\u001b[0m \u001b[1;33m\u001b[0m\u001b[0m\n\u001b[1;32m---> 95\u001b[1;33m         \u001b[0mpayload\u001b[0m \u001b[1;33m=\u001b[0m \u001b[0mself\u001b[0m\u001b[1;33m.\u001b[0m\u001b[0m_version\u001b[0m\u001b[1;33m.\u001b[0m\u001b[0mcreate\u001b[0m\u001b[1;33m(\u001b[0m\u001b[0mmethod\u001b[0m\u001b[1;33m=\u001b[0m\u001b[1;34m'POST'\u001b[0m\u001b[1;33m,\u001b[0m \u001b[0muri\u001b[0m\u001b[1;33m=\u001b[0m\u001b[0mself\u001b[0m\u001b[1;33m.\u001b[0m\u001b[0m_uri\u001b[0m\u001b[1;33m,\u001b[0m \u001b[0mdata\u001b[0m\u001b[1;33m=\u001b[0m\u001b[0mdata\u001b[0m\u001b[1;33m,\u001b[0m \u001b[1;33m)\u001b[0m\u001b[1;33m\u001b[0m\u001b[1;33m\u001b[0m\u001b[0m\n\u001b[0m\u001b[0;32m     96\u001b[0m \u001b[1;33m\u001b[0m\u001b[0m\n\u001b[0;32m     97\u001b[0m         \u001b[1;32mreturn\u001b[0m \u001b[0mMessageInstance\u001b[0m\u001b[1;33m(\u001b[0m\u001b[0mself\u001b[0m\u001b[1;33m.\u001b[0m\u001b[0m_version\u001b[0m\u001b[1;33m,\u001b[0m \u001b[0mpayload\u001b[0m\u001b[1;33m,\u001b[0m \u001b[0maccount_sid\u001b[0m\u001b[1;33m=\u001b[0m\u001b[0mself\u001b[0m\u001b[1;33m.\u001b[0m\u001b[0m_solution\u001b[0m\u001b[1;33m[\u001b[0m\u001b[1;34m'account_sid'\u001b[0m\u001b[1;33m]\u001b[0m\u001b[1;33m,\u001b[0m \u001b[1;33m)\u001b[0m\u001b[1;33m\u001b[0m\u001b[1;33m\u001b[0m\u001b[0m\n",
      "\u001b[1;32m~\\anaconda3\\lib\\site-packages\\twilio\\base\\version.py\u001b[0m in \u001b[0;36mcreate\u001b[1;34m(self, method, uri, params, data, headers, auth, timeout, allow_redirects)\u001b[0m\n\u001b[0;32m    203\u001b[0m \u001b[1;33m\u001b[0m\u001b[0m\n\u001b[0;32m    204\u001b[0m         \u001b[1;32mif\u001b[0m \u001b[0mresponse\u001b[0m\u001b[1;33m.\u001b[0m\u001b[0mstatus_code\u001b[0m \u001b[1;33m<\u001b[0m \u001b[1;36m200\u001b[0m \u001b[1;32mor\u001b[0m \u001b[0mresponse\u001b[0m\u001b[1;33m.\u001b[0m\u001b[0mstatus_code\u001b[0m \u001b[1;33m>=\u001b[0m \u001b[1;36m300\u001b[0m\u001b[1;33m:\u001b[0m\u001b[1;33m\u001b[0m\u001b[1;33m\u001b[0m\u001b[0m\n\u001b[1;32m--> 205\u001b[1;33m             \u001b[1;32mraise\u001b[0m \u001b[0mself\u001b[0m\u001b[1;33m.\u001b[0m\u001b[0mexception\u001b[0m\u001b[1;33m(\u001b[0m\u001b[0mmethod\u001b[0m\u001b[1;33m,\u001b[0m \u001b[0muri\u001b[0m\u001b[1;33m,\u001b[0m \u001b[0mresponse\u001b[0m\u001b[1;33m,\u001b[0m \u001b[1;34m'Unable to create record'\u001b[0m\u001b[1;33m)\u001b[0m\u001b[1;33m\u001b[0m\u001b[1;33m\u001b[0m\u001b[0m\n\u001b[0m\u001b[0;32m    206\u001b[0m \u001b[1;33m\u001b[0m\u001b[0m\n\u001b[0;32m    207\u001b[0m         \u001b[1;32mreturn\u001b[0m \u001b[0mjson\u001b[0m\u001b[1;33m.\u001b[0m\u001b[0mloads\u001b[0m\u001b[1;33m(\u001b[0m\u001b[0mresponse\u001b[0m\u001b[1;33m.\u001b[0m\u001b[0mtext\u001b[0m\u001b[1;33m)\u001b[0m\u001b[1;33m\u001b[0m\u001b[1;33m\u001b[0m\u001b[0m\n",
      "\u001b[1;31mTwilioRestException\u001b[0m: HTTP 401 error: Unable to create record: Authenticate"
     ]
    }
   ],
   "source": [
    "cap = cv2.VideoCapture('Accident-1.mp4')\n",
    "i=0\n",
    "flag=0\n",
    "while(True):\n",
    "    ret,frame=cap.read()\n",
    "    if ret==True:\n",
    "        if predictions[int(i/15)%9][0]<predictions[int(i/15)%9][1]:\n",
    "            predict=\"No Accident\"\n",
    "        else:\n",
    "            predict=\"Accident\"\n",
    "            flag=1\n",
    "        font = cv2.FONT_HERSHEY_SIMPLEX\n",
    "        cv2.putText(frame,\n",
    "                predict,\n",
    "                (50, 50),\n",
    "                font, 1,\n",
    "                (0, 255, 255),\n",
    "                3,\n",
    "                cv2.LINE_4)\n",
    "        cv2.imshow('Frame', frame)\n",
    "        i=i+1\n",
    "        if cv2.waitKey(50) & 0xFF == ord('q'):\n",
    "            break\n",
    "    else:\n",
    "        break\n",
    "if flag==1:\n",
    "    client.messages.create(\n",
    "                 body=\"Accident Detected @ \"+locname.address,\n",
    "                 from_= +14783752797,\n",
    "                 to= +917506266617 )\n",
    "\n",
    "# release the cap object\n",
    "cap.release()\n",
    "# close all windows\n",
    "cv2.destroyAllWindows()\n"
   ]
  },
  {
   "cell_type": "code",
   "execution_count": null,
   "id": "27a76e04",
   "metadata": {},
   "outputs": [],
   "source": []
  },
  {
   "cell_type": "code",
   "execution_count": null,
   "id": "0d3a6a4f",
   "metadata": {},
   "outputs": [],
   "source": []
  },
  {
   "cell_type": "code",
   "execution_count": null,
   "id": "36aaa0ab",
   "metadata": {},
   "outputs": [],
   "source": []
  },
  {
   "cell_type": "code",
   "execution_count": null,
   "id": "0ab12e9d",
   "metadata": {},
   "outputs": [],
   "source": []
  },
  {
   "cell_type": "code",
   "execution_count": null,
   "id": "38071c34",
   "metadata": {},
   "outputs": [],
   "source": []
  }
 ],
 "metadata": {
  "kernelspec": {
   "display_name": "Python 3 (ipykernel)",
   "language": "python",
   "name": "python3"
  },
  "language_info": {
   "codemirror_mode": {
    "name": "ipython",
    "version": 3
   },
   "file_extension": ".py",
   "mimetype": "text/x-python",
   "name": "python",
   "nbconvert_exporter": "python",
   "pygments_lexer": "ipython3",
   "version": "3.9.7"
  },
  "vscode": {
   "interpreter": {
    "hash": "0d591c6e422414675974e227c13f5382000c440fedd3c5006ef2be5d887f0ba7"
   }
  }
 },
 "nbformat": 4,
 "nbformat_minor": 5
}
